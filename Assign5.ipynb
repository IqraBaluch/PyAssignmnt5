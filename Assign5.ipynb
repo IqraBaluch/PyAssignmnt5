{
 "cells": [
  {
   "cell_type": "markdown",
   "metadata": {},
   "source": [
    "# Assignment no 5\n"
   ]
  },
  {
   "cell_type": "code",
   "execution_count": 1,
   "metadata": {},
   "outputs": [
    {
     "name": "stdout",
     "output_type": "stream",
     "text": [
      "Enter Number: 67\n",
      "The factorial of 67 is: 36471110918188685288249859096605464427167635314049524593701628500267962436943872000000000000000\n"
     ]
    }
   ],
   "source": [
    "def fact(num):\n",
    "    factorial = 1\n",
    "    if num < 0:\n",
    "       print(\"Sorry, factorial does not exist for negative numbers\")\n",
    "    elif num == 0:\n",
    "       print(\"The factorial of 0 is: 1\")\n",
    "    else:\n",
    "       for i in range(1,num + 1):\n",
    "           factorial = factorial*i\n",
    "       print(\"The factorial of\",num,\"is:\",factorial)\n",
    "try:\n",
    "    num = int(input('Enter Number: '))\n",
    "except:\n",
    "    print('Enter Integer Numbers')\n",
    "else:\n",
    "    fact(num)"
   ]
  },
  {
   "cell_type": "code",
   "execution_count": 2,
   "metadata": {},
   "outputs": [
    {
     "name": "stdout",
     "output_type": "stream",
     "text": [
      "Original String :  My Name is Iqra Baluch\n",
      "No. of Upper case characters :  4\n",
      "No. of Lower case Characters :  14\n"
     ]
    }
   ],
   "source": [
    "def string(s):\n",
    "    d={\"UPPER_CASE\":0, \"LOWER_CASE\":0}\n",
    "    for c in s:\n",
    "        if c.isupper():\n",
    "           d[\"UPPER_CASE\"]+=1\n",
    "        elif c.islower():\n",
    "           d[\"LOWER_CASE\"]+=1\n",
    "        else:\n",
    "           pass\n",
    "    print (\"Original String : \", s)\n",
    "    print (\"No. of Upper case characters : \", d[\"UPPER_CASE\"])\n",
    "    print (\"No. of Lower case Characters : \", d[\"LOWER_CASE\"])\n",
    "\n",
    "string('My Name is Iqra Baluch')"
   ]
  },
  {
   "cell_type": "code",
   "execution_count": 3,
   "metadata": {},
   "outputs": [
    {
     "name": "stdout",
     "output_type": "stream",
     "text": [
      "Given List  [1, 4, 44, 55, 78, 99, 97, 114, 118]\n",
      "Even Numbers In A List Are:\n",
      "4\n",
      "44\n",
      "78\n",
      "114\n",
      "118\n"
     ]
    }
   ],
   "source": [
    "l=[1,4,44,55,78,99,97,114,118]\n",
    "\n",
    "def printEvenNo(List):\n",
    "    print('Given List ',List)\n",
    "    print('Even Numbers In A List Are:')\n",
    "    for i in List:\n",
    "        if i%2==0:\n",
    "            print(i)\n",
    "\n",
    "printEvenNo(l)"
   ]
  },
  {
   "cell_type": "code",
   "execution_count": 4,
   "metadata": {},
   "outputs": [
    {
     "name": "stdout",
     "output_type": "stream",
     "text": [
      "Given String Is (Hamza) Not A Palindrome\n",
      "Given String (Madam) Is Palindrome\n"
     ]
    }
   ],
   "source": [
    "def chkPal(string):\n",
    "    if string[:]==string[::-1]:\n",
    "        print(\"Given String (\"+string.title()+\") Is Palindrome\")\n",
    "    else:\n",
    "        print(\"Given String Is (\"+string.title()+\") Not A Palindrome\")\n",
    "\n",
    "chkPal('Hamza'.lower())\n",
    "chkPal('Madam'.lower())"
   ]
  },
  {
   "cell_type": "code",
   "execution_count": 5,
   "metadata": {},
   "outputs": [
    {
     "name": "stdout",
     "output_type": "stream",
     "text": [
      "Enter Number: 6\n",
      "6 is not a prime number\n",
      "2 x 3 is 6\n"
     ]
    }
   ],
   "source": [
    "def prime(num):\n",
    "    if num > 1:\n",
    "       for i in range(2,num):\n",
    "           if (num % i) == 0:\n",
    "               print(num,\"is not a prime number\")\n",
    "               print(i,\"x\",num//i,\"is\",num)\n",
    "               break\n",
    "       else:\n",
    "           print(num,\"is a prime number\")\n",
    "\n",
    "    else:\n",
    "       print(num,\"is not a prime number\")\n",
    "prime(int(input('Enter Number: ')))"
   ]
  },
  {
   "cell_type": "code",
   "execution_count": 7,
   "metadata": {},
   "outputs": [
    {
     "name": "stdout",
     "output_type": "stream",
     "text": [
      "You bought: Shirt\n",
      "You bought: Touser\n",
      "You bought: Shoes\n",
      "You bought: Toys\n",
      "You bought: Sweater\n",
      "\n",
      "Your Shopping List are/is: ['Shirt', 'Touser', 'Shoes', 'Toys', 'Sweater']\n"
     ]
    }
   ],
   "source": [
    "L=[]\n",
    "def shoppingCart(*items):\n",
    "    for i in items:\n",
    "        L.append(i)\n",
    "        print(\"You bought:\",i)\n",
    "    print('\\nYour Shopping List are/is:',L)\n",
    "shoppingCart(\"Shirt\",\"Touser\",\"Shoes\",\"Toys\",\"Sweater\")\n"
   ]
  },
  {
   "cell_type": "code",
   "execution_count": null,
   "metadata": {},
   "outputs": [],
   "source": []
  }
 ],
 "metadata": {
  "kernelspec": {
   "display_name": "Python 3",
   "language": "python",
   "name": "python3"
  },
  "language_info": {
   "codemirror_mode": {
    "name": "ipython",
    "version": 3
   },
   "file_extension": ".py",
   "mimetype": "text/x-python",
   "name": "python",
   "nbconvert_exporter": "python",
   "pygments_lexer": "ipython3",
   "version": "3.7.4"
  }
 },
 "nbformat": 4,
 "nbformat_minor": 2
}
